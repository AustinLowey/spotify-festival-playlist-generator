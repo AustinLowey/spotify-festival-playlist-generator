{
 "cells": [
  {
   "cell_type": "code",
   "execution_count": null,
   "metadata": {},
   "outputs": [],
   "source": [
    "import os\n",
    "import requests\n",
    "from bs4 import BeautifulSoup"
   ]
  },
  {
   "cell_type": "code",
   "execution_count": 3,
   "metadata": {},
   "outputs": [
    {
     "name": "stdout",
     "output_type": "stream",
     "text": [
      "Name: Coachella Music Festival Weekend 1\n",
      "ID: Z7r9jZ1Ad0t3K\n",
      "URL: https://www.ticketmaster.com/event/Z7r9jZ1Ad0t3K\n",
      "Start Date: 2024-04-12\n",
      "----------------------------------------\n",
      "Name: Coachella Music Festival Weekend 2\n",
      "ID: Z7r9jZ1Ad0t3f\n",
      "URL: https://www.ticketmaster.com/event/Z7r9jZ1Ad0t3f\n",
      "Start Date: 2024-04-19\n",
      "----------------------------------------\n",
      "Name: Blues Traveler\n",
      "ID: vvG10Z9UnlFxn2\n",
      "URL: https://www.ticketmaster.com/blues-traveler-coachella-california-05-10-2024/event/09005F6AAB222A8F\n",
      "Start Date: 2024-05-10\n",
      "----------------------------------------\n",
      "Name: Todd Rundgren\n",
      "ID: vv170ZbeGkSET0Ue\n",
      "URL: https://www.ticketmaster.com/todd-rundgren-coachella-california-06-22-2024/event/0900602CE7FE4D82\n",
      "Start Date: 2024-06-22\n",
      "----------------------------------------\n",
      "Name: Killer Queen\n",
      "ID: vvG10Z9zNnmNMq\n",
      "URL: https://www.ticketmaster.com/killer-queen-coachella-california-03-15-2024/event/09005F88EABA3DDD\n",
      "Start Date: 2024-03-15\n",
      "----------------------------------------\n"
     ]
    }
   ],
   "source": [
    "def search_music_festival(festival_name):\n",
    "    \"\"\"Search for a music festival on Ticketmaster.\"\"\"\n",
    "\n",
    "    # Construct the API URL\n",
    "    api_key = os.getenv(\"TICKETMASTER_API_KEY\")\n",
    "    url = \"https://app.ticketmaster.com/discovery/v2/events.json\"\n",
    "    params = {\n",
    "        'apikey': api_key,\n",
    "        'keyword': festival_name,\n",
    "        'classificationName': 'music',\n",
    "        'size': 5\n",
    "    }\n",
    "\n",
    "    # Make the request to the Ticketmaster API\n",
    "    response = requests.get(url, params=params)\n",
    "\n",
    "    # Check if the request was successful\n",
    "    if response.status_code == 200:\n",
    "        # Parse the JSON response\n",
    "        data = response.json()\n",
    "        events = data['_embedded']['events'] if '_embedded' in data else []\n",
    "\n",
    "        # Display the results\n",
    "        for event in events:\n",
    "            print(f\"Name: {event['name']}\")\n",
    "            print(f\"ID: {event['id']}\")\n",
    "            print(f\"URL: {event['url']}\")\n",
    "            print(f\"Start Date: {event['dates']['start']['localDate']}\")\n",
    "            print(\"-\" * 40)\n",
    "    else:\n",
    "        print(f\"Failed to fetch data: {response.status_code}\")\n",
    "\n",
    "    return events\n",
    "\n",
    "festival_name = 'Coachella'\n",
    "events = search_music_festival(festival_name)"
   ]
  },
  {
   "cell_type": "code",
   "execution_count": 22,
   "metadata": {},
   "outputs": [
    {
     "data": {
      "text/plain": [
       "{'venues': [{'name': 'Empire Polo Field',\n",
       "   'type': 'venue',\n",
       "   'id': 'ZFr9jZdeea',\n",
       "   'test': False,\n",
       "   'locale': 'en-us',\n",
       "   'postalCode': '92201',\n",
       "   'timezone': 'America/Los_Angeles',\n",
       "   'city': {'name': 'Indio'},\n",
       "   'state': {'name': 'California', 'stateCode': 'CA'},\n",
       "   'country': {'name': 'United States Of America', 'countryCode': 'US'},\n",
       "   'address': {'line1': '81800 Avenue 51'},\n",
       "   'location': {'longitude': '-116.236099', 'latitude': '33.726898'},\n",
       "   'dmas': [{'id': 354}],\n",
       "   'upcomingEvents': {'tmr': 6, '_total': 6, '_filtered': 0},\n",
       "   '_links': {'self': {'href': '/discovery/v2/venues/ZFr9jZdeea?locale=en-us'}}}],\n",
       " 'attractions': [{'name': 'Coachella Valley Music and Arts Festival',\n",
       "   'type': 'attraction',\n",
       "   'id': 'K8vZ9171q60',\n",
       "   'test': False,\n",
       "   'url': 'https://www.ticketmaster.com/coachella-valley-music-and-arts-festival-tickets/artist/806308',\n",
       "   'locale': 'en-us',\n",
       "   'externalLinks': {'youtube': [{'url': 'https://www.youtube.com/channel/UCHF66aWLOxBW4l6VkSrS3cQ'}],\n",
       "    'twitter': [{'url': 'https://twitter.com/coachella'}],\n",
       "    'facebook': [{'url': 'https://www.facebook.com/coachella'}],\n",
       "    'instagram': [{'url': 'https://www.instagram.com/coachella/'}],\n",
       "    'homepage': [{'url': 'https://www.coachella.com'}]},\n",
       "   'aliases': ['coachela',\n",
       "    'coachella',\n",
       "    'coachella fest',\n",
       "    'coahella',\n",
       "    'cochela',\n",
       "    'cochella',\n",
       "    'coechella',\n",
       "    'couchella'],\n",
       "   'images': [{'ratio': '16_9',\n",
       "     'url': 'https://s1.ticketm.net/dam/a/c63/98b72144-ea0b-4727-a4b1-4da7329b0c63_1252111_EVENT_DETAIL_PAGE_16_9.jpg',\n",
       "     'width': 205,\n",
       "     'height': 115,\n",
       "     'fallback': False},\n",
       "    {'ratio': '3_2',\n",
       "     'url': 'https://s1.ticketm.net/dam/a/c63/98b72144-ea0b-4727-a4b1-4da7329b0c63_1252111_RETINA_PORTRAIT_3_2.jpg',\n",
       "     'width': 640,\n",
       "     'height': 427,\n",
       "     'fallback': False},\n",
       "    {'ratio': '16_9',\n",
       "     'url': 'https://s1.ticketm.net/dam/a/c63/98b72144-ea0b-4727-a4b1-4da7329b0c63_1252111_RETINA_LANDSCAPE_16_9.jpg',\n",
       "     'width': 1136,\n",
       "     'height': 639,\n",
       "     'fallback': False},\n",
       "    {'ratio': '16_9',\n",
       "     'url': 'https://s1.ticketm.net/dam/a/c63/98b72144-ea0b-4727-a4b1-4da7329b0c63_1252111_TABLET_LANDSCAPE_16_9.jpg',\n",
       "     'width': 1024,\n",
       "     'height': 576,\n",
       "     'fallback': False},\n",
       "    {'ratio': '4_3',\n",
       "     'url': 'https://s1.ticketm.net/dam/a/c63/98b72144-ea0b-4727-a4b1-4da7329b0c63_1252111_CUSTOM.jpg',\n",
       "     'width': 305,\n",
       "     'height': 225,\n",
       "     'fallback': False},\n",
       "    {'ratio': '3_2',\n",
       "     'url': 'https://s1.ticketm.net/dam/a/c63/98b72144-ea0b-4727-a4b1-4da7329b0c63_1252111_TABLET_LANDSCAPE_3_2.jpg',\n",
       "     'width': 1024,\n",
       "     'height': 683,\n",
       "     'fallback': False},\n",
       "    {'ratio': '3_2',\n",
       "     'url': 'https://s1.ticketm.net/dam/a/c63/98b72144-ea0b-4727-a4b1-4da7329b0c63_1252111_ARTIST_PAGE_3_2.jpg',\n",
       "     'width': 305,\n",
       "     'height': 203,\n",
       "     'fallback': False},\n",
       "    {'ratio': '16_9',\n",
       "     'url': 'https://s1.ticketm.net/dam/a/c63/98b72144-ea0b-4727-a4b1-4da7329b0c63_SOURCE',\n",
       "     'width': 2048,\n",
       "     'height': 1152,\n",
       "     'fallback': False},\n",
       "    {'ratio': '16_9',\n",
       "     'url': 'https://s1.ticketm.net/dam/a/c63/98b72144-ea0b-4727-a4b1-4da7329b0c63_1252111_RETINA_PORTRAIT_16_9.jpg',\n",
       "     'width': 640,\n",
       "     'height': 360,\n",
       "     'fallback': False},\n",
       "    {'ratio': '16_9',\n",
       "     'url': 'https://s1.ticketm.net/dam/a/c63/98b72144-ea0b-4727-a4b1-4da7329b0c63_1252111_RECOMENDATION_16_9.jpg',\n",
       "     'width': 100,\n",
       "     'height': 56,\n",
       "     'fallback': False}],\n",
       "   'classifications': [{'primary': True,\n",
       "     'segment': {'id': 'KZFzniwnSyZfZ7v7nJ', 'name': 'Music'},\n",
       "     'genre': {'id': 'KnvZfZ7vAeA', 'name': 'Rock'},\n",
       "     'subGenre': {'id': 'KZazBEonSMnZfZ7v6dt', 'name': 'Alternative Rock'},\n",
       "     'type': {'id': 'KZAyXgnZfZ7v7nI', 'name': 'Undefined'},\n",
       "     'subType': {'id': 'KZFzBErXgnZfZ7v7lJ', 'name': 'Undefined'},\n",
       "     'family': False}],\n",
       "   'upcomingEvents': {'tmr': 2, '_total': 2, '_filtered': 0},\n",
       "   '_links': {'self': {'href': '/discovery/v2/attractions/K8vZ9171q60?locale=en-us'}}}]}"
      ]
     },
     "execution_count": 22,
     "metadata": {},
     "output_type": "execute_result"
    }
   ],
   "source": [
    "events[0].get('_embedded')"
   ]
  },
  {
   "cell_type": "code",
   "execution_count": 19,
   "metadata": {},
   "outputs": [
    {
     "name": "stdout",
     "output_type": "stream",
     "text": [
      "Coachella Valley Music and Arts Festival\n"
     ]
    }
   ],
   "source": [
    "event = events[0]\n",
    "if '_embedded' in event and 'attractions' in event['_embedded']:\n",
    "    artists = event['_embedded']['attractions']\n",
    "    for artist in artists:\n",
    "        print(artist['name'])\n",
    "else:\n",
    "    print(\"Artist lineup not available for this event.\")"
   ]
  },
  {
   "cell_type": "code",
   "execution_count": 31,
   "metadata": {},
   "outputs": [
    {
     "name": "stdout",
     "output_type": "stream",
     "text": [
      "['Rock', 'Venue', 'Empire Polo Field', 'Venue', 'Empire Polo Field', 'FRIDAY APRIL 15 & 22', 'Harry Styles', 'Lil Baby', 'Daniel Caesar', 'Phoebe Bridgers', 'Big Sean', 'Grupo Firme', 'Louis the Child', 'Baby Keem', 'Still Woozy', 'King Gizzard & the Lizard Wizard', 'Snoh Aalegra', 'City Girls', 'Madeon', 'NIKI -Lane 8', 'Pink Sweat$', 'Omar Apollo', 'Black Coffee', 'IDLES', 'Peggy Gou- EPIK HIGH', 'The Marias', 'Carly Rae Jepsen', 'Spiritualized', 'Daphni- the Martinez Brothers', 'Bishop Briggs', 'MIKA', 'slowthai', 'Cordae', 'BADBADNOTGOOD', 'The Avalanches', 'Role Model', 'ARTBAT', 'Damian Lazarus', 'TOKiMONSTA', 'Princess Nokia', 'PUP', 'the Regrettes', 'Raveena', 'Purple Disco Machine', 'Arooj Aftab', 'Amy! and the Sniffers', 'Dom Dolla', 'Logic1000', 'the Chats', 'the Hu', 'John Summit', 'Jean Dawson', 'Code Orange', 'Ela Minus', 'Jayda G', 'Lost Kings', 'Lawrence', 'GG Magree', 'Giselle Woo & the Night Owls', 'SOHMI- MEUTE', 'DJ Lord', 'Dear Humans', '', 'SATURDAY APRIL 16 & 23', 'Billie Eilish', 'Flume', 'Megan Thee Stallion', 'Disclosure', '21 Savage', 'Danny Elfman', 'Stromae', 'Giveon', 'Anitta', 'BROCKHAMPTON', 'Rich Brian', 'girl in red', 'Wallows', 'Isaiah Rashad', 'Caribou', 'Cuco', 'Conan Gray', 'Koffee', 'Tchami', 'Dixon', 'Caroline Polachek', 'Turnstile', '100 gecs', 'Freddie Gibbs & Madlib', 'Pabllo Vittar', 'Hot Chip', 'DJ Koze', 'Floating Points', 'Steve Lacy', 'Arlo Parks', 'Rina Sawayama', 'Japanese Breakfast', 'Masego', 'Chelsea Cutler', 'Nicki Nicole', 'Richie Hawtin', 'Beach Bunny', 'Amber Mark', 'Ed Maverick', 'Current Joys', 'black midi', 'Chris Liebing', 'Kyary Pamyu Pamyu', 'Inner Wave', 'ANNA', 'Holly Humberstone', 'Nilufer Yanya', \"L'Impératrice\", 'Emo Nite', 'Alaina Castillo', 'Paco Osuna', 'Beach Goons', 'VNSSA- Mannequin Pussy', 'Sama’ Abdulhadi', 'Whipped Cream', 'DJ Holographic', 'Yard Act', 'Layla Benitez', 'Miane', '', 'SUNDAY APRIL 17 & 24', 'Ye', 'Doja Cat', 'Joji', 'Jamie xx', 'Run the Jewels', 'Karol G', 'Maggie Rogers', 'Ari Lennox', 'Banda MS', 'Fatboy Slim', 'Maneskin', 'J.I.D', 'SLANDER', 'Solomun', 'Jessie Reyez', 'Denzel Curry', 'FINNEAS', 'Vince Staples', 'Dave', 'Fred again..', 'Duck Sauce', 'Chicano Batman', 'Duke Dumont', 'Kim Petras', 'Orville Peck', 'Natanael Cano', 'beabadoobee', 'Belly', 'the Blessed Madonna + Honey Dijon', 'Alec Benjamin', 'Ali Gatie', 'Surf Curse', 'Michael Bibi', 'Nathy Peluso', 'Maxo Kream', 'Bedouin', 'Emotional Oranges', 'Channel Tres', 'Yola', 'Hayden James', 'Molchat Doma', 'Crumb', 'Olivia O’Brien', 'Griselda', 'Eyedress', 'Sampa the Great', 'Satori', 'Viagra Boys', 'Adam Port', 'Altin Gun', 'Skegss', 'Luttrell', 'Mariah the Scientist', 'AMEME', 'Carino', 'Cole Knight', '', 'Returning to the Desert: Swedish House Mafia', \"Featuring: 88rising's HEAD IN THE CLOUDS FOREVER\", 'Large-scale art installations by: Architensions', 'Cristopher Cichocki', 'Kiki Van Eijk', 'Los Dos', 'Estudio Normal', 'Oana Stanescu', 'NEWSUBSTANCE', 'Do LaB', 'Robert Bose', 'gave this a 5 star because of harry styles and weekend 2?!!! HELLO he brought out shania twain?!!!! AND HE SANG MEDICINE', 'Traffic galore due to roads closed. Taking Uber? Expect two hr bumper to bumper when it should only take half... Having left an hr in advance. Expect to park far. Expect to walk. Walking gets you there faster! And once you reach the vacinity, expect to walk more!!! The entry path is ridiculous! Golden Boys make very good money. They need to fix the entrance path. RIDICULOUS! Expect sore feet and possible blisters. Great artists. But 2 to 3 playing at the same time. The. you have to choose who to watch and one may only just sing one song. And no cash accepted at the food vendors. Estimate $12 to $20 EACH food or drink item. Good luck! One day os enough!', 'Traffic was insanity.\\nArrival was madness.\\nThe desert is intense.\\nShowers sucked....get in line early (if not bottled water is essential) or bring your own!\\nI loveeeeeed it all.\\nI loved being immersed in music madness 24/7!\\nDance all day long!\\nTake a nap. But not for too long!!!\\nThe layout could be improved.\\nRemember where you camped!\\nDo not attempt to find your tent drunk, alone, and at night. You will not find it!\\nExperience as much as possible.\\nGo as many times as you can!', \"took me almost 10 years to get my act to together and get out to the desert for this, and wow why did i wait so long?!?\\n\\nhalf way through day 1 i felt like i had gotten my money's worth. everything after that was an added bonus (including duran duran, OMG, duran duran).\\n\\naccidentally got into VIP once or twice without realizing it..the only benefit is having the beer/liquor closer to the seating area so you can drink while enjoying bands from afar.\\n\\ncan't wait for next year. who's the headliner?\", 'A getaway from all the clutter of urban life into a musical retreat.', 'I would highly recommend anyone go to Coachella if/when they have the chance. Car camping was truly a unique experience and our amazing neighbors made the weekend even better. I am now a fan for life and plan to attend every future Coachella if life allows. I have already bought my tickets for 2012 without the lineup being released, if that tells you anything. We drove from the Panhandle of Florida in 2 days to make it to Cali on time...and what an unforgettable trip it was. 2012 OR BUST! :)', \"Sunday 17th April\\n\\n* 1pm Gobi: Plan B. I first heard 'Stay Too Long' about a year ago and instantly loved it. The Defamation of Strickland Banks is a cracking album and won a Brit award. He's got a high billing at UK festivals this year, so to see him in the Gobi this early in the day was always gonna be special. We weren't disappointed. We were treated to a human beatbox rapper to introduce the band who were all in suits and ties and we got a bit worried about the skinny guitarist who was using his inhaler after a couple of songs later walked side stage to pour a bottle of water over his head. Ben Drew wasn't happy about the monitors after a few early squeals of feedback however it didn't damped his sharp, wicked tongued delivery. After throwing himself at each band member in turn the last song degenerated into a human pile up\", \"great entertainment.Top songs were 'She Said' and 'Stay Too Long'.\\n\\n* 3:50 Gobi: Angus & Julia Stone. My research had highlighted 'Big Jet Plane' as a real favourite and possible Coachella highlight. It's a languid, laid back song that reminds me of The Carpenters. They didn't play it. The brother and sister looked like your stereotypical summer of love hippy couple and the songs they did play were unimpressive. I didn't like her drippy student voice or for that matter the beads and flowers in her hair. Disappointed.\\n\\n* 4:50 Outdoor: Jimmy Eat World. I'd heard these guys described as like Foo Fighters without the ex Nirvana member. I reckon the singers voice is just a little clean for the music they play but I really enjoyed their set. Heavy guitars and sing along lyrics. Top song\", \"'My Best Theory'.\\n\\n* Conflicts #1 & #2. Death From Above 1979 (Reformed Heavy noisemerchants) or Best Coast (Debut album Summersonic Beach Boys) or Tinie Tempah (The darling of UK Hip Hop). The new bands would aways win the day, but we compromised our american bands first principle due to the hype back home surrounding Tinie Tempah.\\n\\n* 6:00 Gobi: Tinie Tempah. He went on late and we were worried that the set might be curtailed. It wasn't, but then he was only scheduled to play 30mins. Loved it loved it loved it. Great beats, great energy and rapid fire rap. Confidence is not a problem for this guy and his performance justified every drop of it. At one point he asked the crowd to crouch low and the entire Gobi complied before bursting into a bouncy on command. Great gig. Top songs: 'Wonderman' & 'Written in the Stars' for which Ellie Goulding, who preceded TT on the Gobi stage, made an appearance. A minor highlight was seeing The Hoff getting a reprimand form security for attempting to crowd surf.\\n\\n* Conflict #3 The National or Trentemoller. Scandinavian curiosity unfortunately had to take second place for the band that has been growing on me like a developing suntan since the line up was announced.\\n\\n* 7:25 Outdoor: The National. They didn't play my favourite 'Mistaken For Strangers' but that is the only minor gripe I could possibly have, everything else about the set was perfect. Great melodies, powerful, controlled music at Sunset on the Outdoor stage and a full Moon in the eastern sky opposite the mountain backdrop. Did I say earlier this is Heaven's music festival? The National play with a restraint and confidence that comes from maturity. They are modest anti-heroes. No requirement for excessive chat and the singer's a beardy. The music says it all. Top songs: 'Brainy', 'England', Anyone's Ghost', Bloodbuzz Ohio', 'Fake Empire' & 'Afraid of Anyone'. Just got tickets for the gig in Edinburgh in August\", \"delighted we'll get to hear a full set rather than just 50 mins.\\n\\n* 8.55 Main Stage: The Strokes. We managed to ignore the fat boy four (Duran Duran) as we made our way to take up the same front section position we'd had for Kings Of Leon. I didn't know an awful lot of The Strokes' material before research began but I was looking forward to this one having enjoyed their set (on TV) at Isle of Wight last summer. They were more talented musicians and more 'pop' than I expected which was probably something a bit less organised and punkier. Tight bass & drums underpinned their signature guitar sound and Julian C's distorted vocal. Distinctive driving rock that never got samey or boring. The new album was reviewed as a return to form and I expect this gig was too. Visuals were great\", '3 huge white draped chevrons on both sides of the stage focused the band and captured the light show. Highlights', \"'Reptilia', 'Juicebox', 'Last Nite' & 'New York City Cops'.\\n\\n* 10.30 Main Stage: Kanye West. I couldn't tell you the name of a single Kanye song. No research completed, no expectations, this was an experiment in forming an opinion from one show\", \"what's Kanye all about? 2 and a half hours later I wasn't really sure. 2 and a half weeks later I'm no further forward and have lost interest. As showtime approached the whisper was that Kanye was sitting with his back to the barrier opposite us with a hooded top on prior to his appearance on what looked like a raised walkway. That cant be him ... he's wearing gear that I would wear to nip down to the shops for a pint of milk. Sure enough he pulled his hood down and proceeded to mount the end of the walkway which rose into the sky and circled 360 degrees as he sung 'Can we get much higher?' (Dark Fantasy). A massive grey backdrop depicting romanesque sculptures filled the rear of the empty stage, save for banks of keyboards on one side and decks and a laptop on the other. The music: Rapped verses, lots of grandiose strings and orchestral dramatics that sounded almost operatic\", \"Hip Hopera. Choruses seemed to revert to the style of 80's ballads (e.g. Dark Fantasy) whereupon Kanye ceased rapping and started trying to sing. Dear oh dear, he can rap but he most certainly cannot sing and he made this point clear over and over again. I didn't hate it but by Act 3 I was anticipating the end. The final song put the tin lid on it. By this time I'd been told the story of his mum. I thought it extremely self indulgent and arrogant to use the final song on the final night at Coachella to send a boring message to his deceased mum. If this was rap I prefer Eminem, if this was hip hop I prefer Tinie Tempah. It just wasn't that entertaining, the dancers hired from Caesar's Palace were a distraction rather than a treat. Glad I saw him but I wont spending on his back catalogue.\", \"Saturday 16th April\\n\\n* A day filled with conflicts. #1 12:50: Francis and The Lights or 12:55 The Joy Formidable. I was really keen to see both of them. On Thursday I was listening to our Coachella playlist on shuffle and twice I had to check out a great song by a band I couldn't name\", \"both times it was Francis and The Lights, so again the Americans won and we'll check out the welsh female fronted group when we get back home.\\n\\n* 12:50 Outdoor: Francis and The Lights. A great start to Sunny Saturday. Great front-man and another excellent voice. Light upbeat guitar led summer sounds. 'Darling, It's Alright' was a standout. Heading towards a cold Heinekein we got ourselves into the Gobi for what I believe was 'Whirring' by The Joy Formidable. An angrier guitarist I haven't seen since Weller. I've never seen a girl play guitar like that. Classic 3 piece. Drummer stage left and side on. Female lead vocal/guitar who is the spit of Wendy James of Transvision Vamp, what a great band. I'll definitely catch them back home, they could be this year's Band of Skulls.\\n\\n* 2:10 Mojave: Freelance Whales. I thought I'd check these guys out as we had a gap in our Coachooser. We didn't stay long.\\n\\n* 3:15 Mojave: Foals. I'd been looking forward to this one for a while as I'd seen a few videos of the band on NME tv. They were pretty good. Chiming guitars and lots of them, not unlike something from The Joshua Tree. They reminded me of Temper Trap last year, not in terms of sounds but song structure (big extended endings) and visually, although there aren't many beardy front-men out there (see tomorrow for The National).'Spanish Sahara' was the best live track.\\n\\n* 5:20 Outdoor: Cage The Elephant. Mental. I remember these guys from '09\", \"we caught the end of their set in the Mojave and the singer crowd surfed all the way to the mixing desk. This year I'd describe them as a cross between a Nirvana tribute band and the Olympic diving team. The singer wore a red dress and he gave it 110%. He was rarely out of the crowd. Amps & vocals were distorted into songs with one destination\", \"noise central. Musically and visually it was all over the place. Bodies were coming in from all directions. They finished with 2 recognisable singles, 'Shake Me Down' and 'Aint No Rest For The Wicked'. Wicked!\\n\\n* 6:05 Main Stage: Broken Social Scene. We head this band but didn't see them as we were lying star shaped facing the blue sky to the rear of the Main Stage Area. The world drifted by as balloon chains lined up, then ducked and dived in the air. Pretty laid back music, ideal for what felt like the hottest part of the day. 'All To All' was superb and seemed to go on forever. I really enjoyed them.\\n\\n* Conflicts #2, #3 & #4. It was an easy decision to avoid Elbow at 7:30 (take your hands out your pockets Garvey) & Mumford and His Son (Radio Scotland's Sunday evening folk hour) at 8:30 but even so we could only possibly see 2 bands from The Kills, Electric Touch, One Day As A Lion & Shpongle between 7.30 and 9pm. Shpongle were dropped on the grounds that guitar music will always win over dance and The Kills were dropped on the basis that Alison Mosshardt couldn't be as good (and possibly much more erratic) as she was last year with Jack White's Dead Weather Organisation. Furthermore we wanted to get close to our discoveries of 2009, our favourite new band from the mandolin string capital of USA. Electric Touch. However, we need not have worried about being stuck at the back of the Gobi for Austin's finest.\\n\\n* 7.35 Gobi: Electric Touch. The audience was appalling. I counted 30 people in the tent as the band came on stage and four of them were just passing through. A repeat of '09, which happened to be their 2nd Coachella. We had fought our way to the front after Yelle finished ... and then it got lonely. I was so close to the stage I couldn't get the whole band in shot on the flip. Anyway, to the music. Their material isn't available in the UK, so we bought the first album at Coachella 2 years ago. It's a cracker, four to the floor guitar rock'n'roll, with a great English vocal. New album is due this year after the band signed to Island in 2010. Boy do they need some record company support. ET only played one song from the debut in a set of about 12. New material didn't grab me the way the last gig did and I think that's due to the addition of an extra guitar and two more backing vocals which makes the band sound a bit freeze dried. i.e. Songs ready to go, just add stage and crowd. I'll give them the benefit of the doubt that the lack of crowd imbalanced the equation. I'm still keen to hear the new record (If it ever comes out). Hopefully they'll get more support at Lollapalooza.\\n\\n* 8.15 Mojave: One Day As A Lion. AKA Zak De La Rocha from Rage, the drummer from The Mars Volta and another bloke twisting knobs on what looked like a Moog. Sounds spicey and it certainly was. The tent was absolutely rammed and the crowd were boppin in sync for most of the show. Brutally heavy stuff, huge deep distorted grooves. We saw about 35 mins of a short 45 min set and it was probably all we could handle. Top song, 'Wild International'. Walking in there after Electric Touch was like going from Palm Springs to Philly's rush hour in 1 minute.\\n\\n* Conflicts #5 & #6 to close the evening, Animal Collective and Arcade Fire on the Main Stage or Suede and Scissor Sisters in the Mojave. Suede was a must see as I hadn't seen them for years and we'd enjoyed Brett Anderson solo last year. In addition we'd seen Arcade Fire in December and although we've seen Scissor Sisters 3 or 4 times, what better place that Coachella to see them again.\\n\\n* 10:40 Mojave: Suede. The last time I saw them was at the V festival in '99. I dont remember the gig. Previous to that I saw them in '94 at The Queens Hall in Edinburgh. Bernard Butler's last gig. Him and Anderson were ignoring and shouting at each other in equal measure until Bernard walked off stage. 17 years later Anderson walks out like Britpop was 17 months ago, he's stick skinny. Cousin keyboards deputising on Bass because Bassman couldn't get a Visa\", 'stick skinny. Drummer', \"stick skinny. Bernard's replacement on guitar, Richard Oakes, last seen as a teenager ... hang on ... who ate all the pies? Hilarious, I spent the first song laughing at the Guitarist. He might have spent 7 years without calorie control but he can still play, really well. Suede were fantastic. Great versions of 'Killing of A Flashboy', 'Animal Nitrate', 'Filmstar', 'So Young, 'We are the Pigs', 'The Wild Ones', The Beautiful Ones', 'Trash', 'Electricity', 'She's in Fashion' and many more. Anderson whooped, stood taller on the monitors and snapped the mike lead like a whip throughout the show\", 'vocally superb. As were the keyboard-free band. 50 minute set passed in a flash', \"brilliant.\\n\\n* 11:55 Mojave: Scissor Sisters. We retained our spot 5 rows from the front as the SS inflated long tubular balloons and let them float into the crowd. In a set so over the top they played a stack of songs from the new album we didn't know and didn't notice we didn't know them. Filthy Gorgeous was the standout. We bounced in what could definitely not be described as a mosh pit. They do bubblegum pop like I like it\", 'with some funk and some rock and plenty of front.', \"Friday 15th April\\n\\n* 1pm Mojave: Hurts. Manchester 'synth-pop band'. Think Pet Shop Boys/ Talk Talk/ Depeche Mode. They've had excellent press in the UK. The sharp suits and ties they wear make them look like waiters in a posh restaurant, albeit a very hot one. We loved their show, the singer has a great voice and despite the 'pretty boy' facade his delivery is aggressive. Particularly good were 'Wonderful Life', 'Illumination' and 'Better Than Love'. Watch out for them.\\n\\n* 3:30 Outdoor: Titus Andronicus. I dont know where these flapjacks are from and I'm not caring either. Thank goodness we were still on a high from Hurts. This is the definition of rock'n'roll noise pollution. If you cant remember the name of this band just write 'sh1t', we'll know who you mean. I didn't see their whole set\", '30 minutes of valuable Coachella time wasted', \"just as well it was sunny! Rant over.\\n\\n* 4:10 Mojave: The Drums. I had gone off these guys a wee bit during my pre gig research phase. I felt they were a bit twee, and kinda lame like Vampire Weekend but we had a gap to fill before Cee Lo, so.. Really enjoyed them. 'Lets Go Surfing' and 'Forever and Ever Amen' were great and again the singer was excellent despite wearing the worst top I've seen since Maurice Johnston was paraded as a Celtic player, before doing an about turn and signing for Rangers shortly afterwards (google it).\\n\\n* 4:50 Main Stage: Cee Lo Green. Hmmm- he turned up 30 mins late and blamed the early timeslot he'd been allocated. They didn't let him overrun his original time, so we got 4/5 lackluster songs riddled with expletives. The sound was shut down right on 5:40 and the Friar Tuck waddled straight off. It's a real pity cos his all female band sounded pretty tight and surprisingly rocky.\\n\\n* 6:05 Main Stage: Lauryn Hill. I wasn't sure how this one would go and it turned out to be one of THE sets of the weekend. She's got a huge attitude and most importantly the voice to match. The set was funky like James Brown, soulful like Aretha and unpredictable\", \"she called the timing for all the changes when it felt right. Her band were fantastic and she seemed genuinely delighted to be there, a real tonic after Cee Lo.\\n\\n* 7:00 Outdoor: Cold War Kids. We didn't manage to see the start of their set. Mr Green is getting the blame for that too as Lauren Hill was allowed to overrun slightly, anyway, what a great band. I'd picked up bits and pieces during my research and was impressed with their stripped down songs and live they didn't disappoint. Again, the singer's voice was a stand out, very distinctive in the upper registers without resorting to falsetto. Also they were the first guitar band of our weekend\", \"I'll be devoting more time to them from now on. Top song 'Bulldozer', not unlike The National.\\n\\n* 8:15 Outdoor: Brandon Flowers. Although The Morning Benders played at the same time as The Drums and Tame Impala at the same time as Lauryn Hill, this slot presented our first conflict as Marina & The Diamonds were also billed at the Gobi at 8:15. Brandon won our time as he's American and we're Killers fans, moreover we should be able to see M&TD at home. Anyway, apart from the single 'Crossfire' which was excellent his set was a bit ordinary, although the 'sunset slot' did add to the occasion. He covered 'Betty Davis Eyes' early on in the set to grab the crowd but I'm not sure it completely succeeded. There was however a big surprise for the encore ... the guitarist & bass player from The Killers took to the stage for ''Read My Mind' and 'Mr Brightside'\", \"that's more like it.\\n\\n* 8:40 Main Stage: Black Keys. We caught the last 20 mins of the set as we moved towards a prime position for Kings of Leon, which in The Black Keys' world meant 5 or 6 songs. They were better than in 2009, possibly due to the addition of a Bass Player\", \"well powerful and pretty tight with it. Brothers is a good album but I still prefer White Stripes much more.\\n\\n* 9:55 Main Stage: Kings of Leon. Far heavier than I expected, which most definitely is not a bad thing. The drummer is a powerhouse (reminded me of the late Darrell Sweet of Nazareth / or a straight-backed John Bonham). A few songs sounded a bit samey but on the basis that they squeeze most of them out in 4 minutes or less, the set moved along ok. A shorter set may have had more impact, but then we'd have missed out on some of their older stuff. Opening with 'Closer' and 'Crawl' additional highlights were 'Mollys Chambers', 'Back Down South', 'Pyro' and of course 'Sex on Fire' and 'Use Somebody'.\\n\\n* 11:40 Main Stage: Chemical Brothers. Unfortunately we were too cream crackered to wait on them coming on, which is just as well as they went on 40 mins later than billed. I've read both positive and negative reports of their foreshortened set.\", 'This was my first time attending Coachella Music Festival, and it was by far the most fun I have had in a very long time! I have never experienced such an amazing, care-free, fun, music experience.\\n\\nFrom this day on I will be attending Coachella every year because that is just how amazing it is!', 'Page 1 of 43', 'By continuing past this page, you agree to ourterms of use', '© 1999-2024 Ticketmaster. All rights reserved.']\n"
     ]
    }
   ],
   "source": [
    "# Function to retrieve and parse artists from the webpage\n",
    "def get_artists_from_url(url):\n",
    "    response = requests.get(url)\n",
    "    artists_list = []\n",
    "\n",
    "    # Check if the request was successful\n",
    "    if response.status_code == 200:\n",
    "        html_content = response.text\n",
    "        soup = BeautifulSoup(html_content, 'html.parser')\n",
    "\n",
    "        # Finding all <p> tags, since the artists are listed within them\n",
    "        paragraphs = soup.find_all('p')\n",
    "\n",
    "        # Loop through each paragraph to extract artists\n",
    "        for paragraph in paragraphs:\n",
    "            text = paragraph.get_text(strip=True)\n",
    "            # Assuming artists are separated by \" - \". Not sure if this is consistent across whole website\n",
    "            artists = text.split(\" - \")\n",
    "            # Append artists to the list\n",
    "            for artist in artists:\n",
    "                artists_list.append(artist)\n",
    "    else:\n",
    "        print(f\"Failed to retrieve the webpage. Status code: {response.status_code}\")\n",
    "    \n",
    "    # Return the list of artists\n",
    "    return artists_list\n",
    "\n",
    "# The URL extracted from the event['_embedded']['attractions'][0]['url']\n",
    "url = 'https://www.ticketmaster.com/coachella-valley-music-and-arts-festival-tickets/artist/806308'\n",
    "artists_list = get_artists_from_url(url)\n",
    "print(artists_list)"
   ]
  }
 ],
 "metadata": {
  "kernelspec": {
   "display_name": "Python 3",
   "language": "python",
   "name": "python3"
  },
  "language_info": {
   "codemirror_mode": {
    "name": "ipython",
    "version": 3
   },
   "file_extension": ".py",
   "mimetype": "text/x-python",
   "name": "python",
   "nbconvert_exporter": "python",
   "pygments_lexer": "ipython3",
   "version": "3.8.3"
  }
 },
 "nbformat": 4,
 "nbformat_minor": 2
}
